{
  "nbformat": 4,
  "nbformat_minor": 0,
  "metadata": {
    "colab": {
      "name": "urllib.ipynb",
      "provenance": [],
      "authorship_tag": "ABX9TyMgEqKxc4bhQoYKYBN5cXih",
      "include_colab_link": true
    },
    "kernelspec": {
      "name": "python3",
      "display_name": "Python 3"
    }
  },
  "cells": [
    {
      "cell_type": "markdown",
      "metadata": {
        "id": "view-in-github",
        "colab_type": "text"
      },
      "source": [
        "<a href=\"https://colab.research.google.com/github/Koushikey4596/Urllib-Module/blob/main/urllib.ipynb\" target=\"_parent\"><img src=\"https://colab.research.google.com/assets/colab-badge.svg\" alt=\"Open In Colab\"/></a>"
      ]
    },
    {
      "cell_type": "code",
      "metadata": {
        "id": "oQPACt7B6goa",
        "colab": {
          "base_uri": "https://localhost:8080/",
          "height": 162
        },
        "outputId": "c143749b-6f4e-4acf-f244-013f0b3ccf24"
      },
      "source": [
        "import urllib.request, urllib.parse, urllib.error\n",
        "import xml.etree.ElementTree as ET\n",
        "import ssl\n",
        "\n",
        "\n",
        "# Ignore SSL certificate errors\n",
        "ctx = ssl.create_default_context()\n",
        "ctx.check_hostname = False\n",
        "ctx.verify_mode = ssl.CERT_NONE\n",
        "\n",
        "while True:\n",
        "    address = input('Enter location: ')\n",
        "    if len(address) < 1: break\n",
        "\n",
        "    parms = dict()\n",
        "    parms['address'] = address\n",
        "    url = serviceurl + urllib.parse.urlencode(parms)\n",
        "    print('Retrieving', url)\n",
        "    uh = urllib.request.urlopen(url, context=ctx)\n",
        "\n",
        "    data = uh.read()\n",
        "    print('Retrieved', len(data), 'characters')\n",
        "    print(data.decode())\n",
        "    tree = ET.fromstring(data)\n",
        "\n",
        "    results = tree.findall('result')\n",
        "    for i in results:\n",
        "      x=int(i.text)\n",
        "      count+=1\n",
        "      sum = sum + x\n",
        "    print (count)\n",
        "    print (sum)"
      ],
      "execution_count": null,
      "outputs": [
        {
          "output_type": "stream",
          "text": [
            "Enter location: http://py4e-data.dr-chuck.net/comments_42.xml\n",
            "Retrieving http://py4e-data.dr-chuck.net/xml?address=http%3A%2F%2Fpy4e-data.dr-chuck.net%2Fcomments_42.xml\n",
            "Retrieved 67 characters\n",
            "Missing/incorrect key= parameter (it is an easy number to guess)...\n"
          ],
          "name": "stdout"
        },
        {
          "output_type": "error",
          "ename": "ParseError",
          "evalue": "ignored",
          "traceback": [
            "\u001b[0;36m  File \u001b[0;32m\"<string>\"\u001b[0;36m, line \u001b[0;32munknown\u001b[0m\n\u001b[0;31mParseError\u001b[0m\u001b[0;31m:\u001b[0m not well-formed (invalid token): line 1, column 7\n"
          ]
        }
      ]
    },
    {
      "cell_type": "code",
      "metadata": {
        "id": "doYduQZo67p8"
      },
      "source": [
        "import urllib.request, urllib.parse, urllib.error\n",
        "from bs4 import BeautifulSoup\n",
        "import ssl\n",
        "\n",
        "# Ignore SSL certificate errors\n",
        "ctx = ssl.create_default_context()\n",
        "ctx.check_hostname = False\n",
        "ctx.verify_mode = ssl.CERT_NONE\n",
        "\n",
        "url = input('Enter - ')\n",
        "html = urllib.request.urlopen(url, context=ctx).read()\n",
        "soup = BeautifulSoup(html, 'html.parser')\n",
        "tag = soup(\"span\")\n",
        "count=0\n",
        "sum=0\n",
        "for i in tag:\n",
        "\tx=int(i.text)\n",
        "\tcount+=1\n",
        "\tsum = sum + x\n",
        "print (count)\n",
        "print (sum)"
      ],
      "execution_count": null,
      "outputs": []
    },
    {
      "cell_type": "code",
      "metadata": {
        "id": "fxm6LCaY9LUh",
        "colab": {
          "base_uri": "https://localhost:8080/",
          "height": 67
        },
        "outputId": "5ca7e4a6-90b2-4264-d9f2-830a64626966"
      },
      "source": [
        "import urllib.request, urllib.parse, urllib.error\n",
        "import xml.etree.ElementTree as ET\n",
        "import ssl\n",
        "\n",
        "\n",
        "# Ignore SSL certificate errors\n",
        "ctx = ssl.create_default_context()\n",
        "ctx.check_hostname = False\n",
        "ctx.verify_mode = ssl.CERT_NONE\n",
        "\n",
        "url = input('Enter - ')\n",
        "uh = urllib.request.urlopen(url, context=ctx)\n",
        "data = uh.read()\n",
        "\n",
        "tree = ET.fromstring(data)\n",
        "results = tree.findall('comments/comment')\n",
        "count =0\n",
        "sum=0\n",
        "for item in results:\n",
        "    x = int(item.find('count').text)\n",
        "    count =count+1\n",
        "    sum = sum+x\n",
        "\n",
        "print(\"Count : \",count)\n",
        "print(\"Sum : \",sum)"
      ],
      "execution_count": null,
      "outputs": [
        {
          "output_type": "stream",
          "text": [
            "Enter - http://py4e-data.dr-chuck.net/comments_785721.xml\n",
            "Count :  50\n",
            "Sum :  2601\n"
          ],
          "name": "stdout"
        }
      ]
    }
  ]
}